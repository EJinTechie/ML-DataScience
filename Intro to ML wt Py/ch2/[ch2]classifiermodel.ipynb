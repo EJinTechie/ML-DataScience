{
 "cells": [
  {
   "cell_type": "code",
   "execution_count": null,
   "id": "0",
   "metadata": {},
   "outputs": [],
   "source": [
    "from random import random\n",
    "from statistics import linear_regression\n",
    "\n",
    "from IPython.core.pylabtools import figsize\n",
    "from IPython.display import display\n",
    "import numpy as np\n",
    "import matplotlib.pyplot as plt\n",
    "import pandas as pd\n",
    "import mglearn\n",
    "from sklearn.model_selection import train_test_split\n",
    "from sklearn.neighbors import KNeighborsClassifier, KNeighborsRegressor"
   ]
  },
  {
   "cell_type": "code",
   "execution_count": null,
   "id": "1",
   "metadata": {},
   "outputs": [],
   "source": [
    "from sklearn.linear_model import LogisticRegression\n",
    "from sklearn.svm import LinearSVC\n",
    "\n",
    "X,y = mglearn.datasets.make_forge()\n",
    "fig,axes =plt.subplots(1,2,figsize=(10,3))\n",
    "for model, ax in zip([LinearSVC(),LogisticRegression()],axes):\n",
    "    clf = model.fit(X,y)\n",
    "    mglearn.plots.plot_2d_separator(clf,X,fill=False,eps=0.5,ax=ax,alpha=.7)\n",
    "    mglearn.discrete_scatter(X[:,0],X[:,1],y,ax=ax)\n",
    "    ax.set_title(clf.__class__.__name__)\n",
    "    ax.set_xlabel(\"feature 0\")\n",
    "    ax.set_ylabel(\"feature 1\")\n",
    "axes[0].legend()"
   ]
  },
  {
   "cell_type": "code",
   "execution_count": null,
   "id": "2",
   "metadata": {},
   "outputs": [],
   "source": [
    "#C 값이 높아지면 규제가 감소 = 두 모델은 훈련 세트에 가능한 최대로 맞추려 함.\n",
    "#C 값 낮추면 모델은 계수 벡터(W)가 0에 가까워지도록 만든다\n",
    "mglearn.plots.plot_linear_svc_regularization()"
   ]
  },
  {
   "cell_type": "code",
   "execution_count": null,
   "id": "3",
   "metadata": {},
   "outputs": [],
   "source": [
    "from sklearn.datasets import load_breast_cancer\n",
    "cancer = load_breast_cancer()\n",
    "X_train, X_test, y_train, y_test =train_test_split(cancer.data, cancer.target,stratify=cancer.target, random_state=42)\n",
    "logreg = LogisticRegression().fit(X_train,y_train)\n",
    "print(f\"train set score : {logreg.score(X_train,y_train):.3f}\")\n",
    "print(f\"test set score : {logreg.score(X_test,y_test):.3f}\")"
   ]
  },
  {
   "cell_type": "code",
   "execution_count": null,
   "id": "4",
   "metadata": {},
   "outputs": [],
   "source": [
    "#제약을 풀어주기 위해 C = 100 으로 증가\n",
    "logreg100 = LogisticRegression(C=100).fit(X_train,y_train)\n",
    "print(f\"train set score : {logreg100.score(X_train,y_train):.3f}\")\n",
    "print(f\"test set score : {logreg100.score(X_test,y_test):.3f}\")"
   ]
  },
  {
   "cell_type": "code",
   "execution_count": null,
   "id": "5",
   "metadata": {},
   "outputs": [],
   "source": [
    "logreg001 = LogisticRegression(C=0.01).fit(X_train,y_train)\n",
    "print(f\"train set score : {logreg001.score(X_train,y_train):.3f}\")\n",
    "print(f\"test set score : {logreg001.score(X_test,y_test):.3f}\")"
   ]
  },
  {
   "cell_type": "code",
   "execution_count": null,
   "id": "6",
   "metadata": {},
   "outputs": [],
   "source": [
    "for C, marker in zip([0.001, 1, 100], ['o','^','v']):\n",
    "    # solver='liblinear' 추가\n",
    "    lr_l1 = LogisticRegression(C=C, penalty='l1', solver='liblinear').fit(X_train, y_train)\n",
    "    print(f\"C = {C:.3f} 인 l1 로지스틱 회귀의 test accuracy : {lr_l1.score(X_train, y_train):.2f}\")\n",
    "    print(f\"C = {C:.3f} 인 l1 로지스틱 회귀의 train accuracy : {lr_l1.score(X_test, y_test):.2f}\")\n",
    "\n",
    "    # 계수를 플롯\n",
    "    plt.plot(range(cancer.data.shape[1]),\n",
    "             lr_l1.coef_[0],\n",
    "             marker,\n",
    "             label=f\"C = {C:.3f}\")\n",
    "\n",
    "plt.xticks(range(cancer.data.shape[1]), cancer.feature_names, rotation=90)\n",
    "xlims = plt.xlim()\n",
    "plt.hlines(0, xlims[0], xlims[1])\n",
    "plt.xlim(xlims)\n",
    "plt.xlabel(\"feature\")\n",
    "plt.ylabel(\"weight size\")\n",
    "plt.ylim(-5, 5)\n",
    "plt.legend(loc=3)\n",
    "plt.tight_layout()"
   ]
  },
  {
   "cell_type": "code",
   "execution_count": null,
   "id": "7",
   "metadata": {},
   "outputs": [],
   "source": []
  }
 ],
 "metadata": {
  "kernelspec": {
   "display_name": "Python 3",
   "language": "python",
   "name": "python3"
  },
  "language_info": {
   "codemirror_mode": {
    "name": "ipython",
    "version": 2
   },
   "file_extension": ".py",
   "mimetype": "text/x-python",
   "name": "python",
   "nbconvert_exporter": "python",
   "pygments_lexer": "ipython2",
   "version": "2.7.6"
  }
 },
 "nbformat": 4,
 "nbformat_minor": 5
}

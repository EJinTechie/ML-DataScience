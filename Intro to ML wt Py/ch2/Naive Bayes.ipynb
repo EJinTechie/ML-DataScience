{
 "cells": [
  {
   "cell_type": "code",
   "execution_count": null,
   "id": "initial_id",
   "metadata": {
    "collapsed": true
   },
   "outputs": [],
   "source": "#BernoulliNB 는 각 클래스의 특성 중 0이 아닌 것이 몇 개인지 센다"
  },
  {
   "metadata": {
    "ExecuteTime": {
     "end_time": "2024-11-07T06:47:40.019507Z",
     "start_time": "2024-11-07T06:47:38.049757Z"
    }
   },
   "cell_type": "code",
   "source": [
    "from random import random\n",
    "from statistics import linear_regression\n",
    "\n",
    "from IPython.core.pylabtools import figsize\n",
    "from IPython.display import display\n",
    "import numpy as np\n",
    "import matplotlib.pyplot as plt\n",
    "import pandas as pd\n",
    "import mglearn\n",
    "from sklearn.model_selection import train_test_split\n",
    "from sklearn.neighbors import KNeighborsClassifier, KNeighborsRegressor\n",
    "from sklearn.svm import LinearSVC"
   ],
   "id": "ef025ecc5e8635c5",
   "outputs": [],
   "execution_count": 1
  },
  {
   "metadata": {
    "ExecuteTime": {
     "end_time": "2024-11-07T06:48:38.340457Z",
     "start_time": "2024-11-07T06:48:38.337363Z"
    }
   },
   "cell_type": "code",
   "source": [
    "X=np.array([[0,1,0,1],[1,0,1,1],[0,0,0,1],[1,0,1,0]])\n",
    "y=np.array([0,1,0,1])"
   ],
   "id": "1a484f9db27d491f",
   "outputs": [],
   "execution_count": 2
  },
  {
   "metadata": {
    "ExecuteTime": {
     "end_time": "2024-11-07T06:49:29.690452Z",
     "start_time": "2024-11-07T06:49:29.682116Z"
    }
   },
   "cell_type": "code",
   "source": [
    "counts={}\n",
    "for label in np.unique(y):\n",
    "    counts[label]=X[y==label].sum(axis=0)\n",
    "print(\"특성 카운트 : \\n\",counts)"
   ],
   "id": "cd4e5847da063f77",
   "outputs": [
    {
     "name": "stdout",
     "output_type": "stream",
     "text": [
      "특성 카운트 : \n",
      " {0: array([0, 1, 0, 2]), 1: array([2, 0, 2, 1])}\n"
     ]
    }
   ],
   "execution_count": 3
  },
  {
   "metadata": {
    "ExecuteTime": {
     "end_time": "2024-11-07T06:51:12.539744Z",
     "start_time": "2024-11-07T06:51:12.535012Z"
    }
   },
   "cell_type": "code",
   "source": "#나이브 베이즈 모델은 선형 모델의 장담점과 비슷. 선형 모델로는 학습 시간이 너무 오래 걸리는 매우 큰 데이터셋에는 나이브 베이즈 모델을 시도해 볼 만함",
   "id": "f1c342bfc15ec131",
   "outputs": [],
   "execution_count": 4
  },
  {
   "metadata": {},
   "cell_type": "code",
   "outputs": [],
   "execution_count": null,
   "source": "",
   "id": "f2b4a92e57d84483"
  }
 ],
 "metadata": {
  "kernelspec": {
   "display_name": "Python 3",
   "language": "python",
   "name": "python3"
  },
  "language_info": {
   "codemirror_mode": {
    "name": "ipython",
    "version": 2
   },
   "file_extension": ".py",
   "mimetype": "text/x-python",
   "name": "python",
   "nbconvert_exporter": "python",
   "pygments_lexer": "ipython2",
   "version": "2.7.6"
  }
 },
 "nbformat": 4,
 "nbformat_minor": 5
}
